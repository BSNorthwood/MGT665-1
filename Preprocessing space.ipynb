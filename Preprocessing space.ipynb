{
 "cells": [
  {
   "cell_type": "markdown",
   "id": "669de6b8",
   "metadata": {},
   "source": [
    "Preprocessing space for lab2\n",
    "This will be where we clean and encode data for analysis.\n",
    "We need to import anything that we will use."
   ]
  },
  {
   "cell_type": "code",
   "execution_count": null,
   "id": "20eb76a2",
   "metadata": {},
   "outputs": [],
   "source": [
    "import pandas as pd\n",
    "from sklearn.preprocessing import LabelEncoder\n",
    "label_encoder = LabelEncoder()"
   ]
  },
  {
   "cell_type": "markdown",
   "id": "f1cafc53",
   "metadata": {},
   "source": [
    "We need to load in the orginal file."
   ]
  },
  {
   "cell_type": "code",
   "execution_count": null,
   "id": "389f93a3",
   "metadata": {},
   "outputs": [],
   "source": [
    "df = pd.read_csv('Students_Grading_Dataset.csv', low_memory = False)"
   ]
  },
  {
   "cell_type": "markdown",
   "id": "cccd90c3",
   "metadata": {},
   "source": [
    "We are going to drop a column that for the purpose of analysis is redundant."
   ]
  },
  {
   "cell_type": "code",
   "execution_count": null,
   "id": "0b1a4198",
   "metadata": {},
   "outputs": [],
   "source": [
    "df.drop(columns=['Email'], inplace=True)"
   ]
  },
  {
   "cell_type": "markdown",
   "id": "c4d42859",
   "metadata": {},
   "source": [
    "We want to encode all variable possible into categorical values for easier analysis."
   ]
  },
  {
   "cell_type": "code",
   "execution_count": null,
   "id": "1281804d",
   "metadata": {},
   "outputs": [],
   "source": [
    "df['Gender'] = label_encoder.fit_transform(df['Gender'])\n",
    "df['Department'] = label_encoder.fit_transform(df['Department'])\n",
    "df['Family_Income_Level'] = label_encoder.fit_transform(df['Family_Income_Level'])\n",
    "df['Parent_Education_Level'] = label_encoder.fit_transform(df['Parent_Education_Level'])\n",
    "df['Internet_Access_at_Home'] = label_encoder.fit_transform(df['Internet_Access_at_Home'])\n",
    "df['Extracurricular_Activities'] = label_encoder.fit_transform(df['Extracurricular_Activities'])"
   ]
  },
  {
   "cell_type": "markdown",
   "id": "6bb87acf",
   "metadata": {},
   "source": [
    "Our target for this analysis will be grade which are in a letter grade format, changing this to Grade Points will allow us to run our models better."
   ]
  },
  {
   "cell_type": "code",
   "execution_count": null,
   "id": "b224be0f",
   "metadata": {},
   "outputs": [],
   "source": [
    "grade_to_numeric = {'A': 4.0, 'B': 3.0, 'C': 2.0, 'D': 1.0, 'F': 0.0} \n",
    "df['Grade'] = df['Grade'].map(grade_to_numeric)"
   ]
  },
  {
   "cell_type": "markdown",
   "id": "ed7eb623",
   "metadata": {},
   "source": [
    "Now that we have done preliminary preprocessing we need to save the changes to a new csv file location."
   ]
  },
  {
   "cell_type": "code",
   "execution_count": null,
   "id": "c6dd3880",
   "metadata": {},
   "outputs": [],
   "source": [
    "df.to_csv(\"Students_Grade.csv\", index=False)"
   ]
  }
 ],
 "metadata": {
  "language_info": {
   "name": "python"
  }
 },
 "nbformat": 4,
 "nbformat_minor": 5
}
