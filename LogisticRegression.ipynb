{
 "cells": [
  {
   "cell_type": "markdown",
   "id": "fcc7a1c8",
   "metadata": {},
   "source": [
    "Logistic Regression Lab2\n",
    "The first thing that needs to be done is to import anything that will be used for performing Logistic Regression"
   ]
  },
  {
   "cell_type": "code",
   "execution_count": 1,
   "id": "29ad6e31",
   "metadata": {},
   "outputs": [],
   "source": [
    "import pandas as pd\n",
    "from sklearn.preprocessing import StandardScaler, LabelEncoder \n",
    "from sklearn.model_selection import train_test_split\n",
    "from sklearn.linear_model import LogisticRegression\n",
    "from sklearn.metrics import accuracy_score, classification_report, precision_score, recall_score, f1_score\n",
    "from sklearn.impute import SimpleImputer\n",
    "from sklearn.ensemble import HistGradientBoostingClassifier"
   ]
  },
  {
   "cell_type": "markdown",
   "id": "2a229ab5",
   "metadata": {},
   "source": [
    "We need to load in our file that has been cleaned."
   ]
  },
  {
   "cell_type": "code",
   "execution_count": 2,
   "id": "5681a16e",
   "metadata": {},
   "outputs": [],
   "source": [
    "data = pd.read_csv('Students_Grade.csv', low_memory=False)"
   ]
  },
  {
   "cell_type": "markdown",
   "id": "6fe1caa1",
   "metadata": {},
   "source": [
    "We need to set the Target and the features we will use"
   ]
  },
  {
   "cell_type": "code",
   "execution_count": 3,
   "id": "40905000",
   "metadata": {},
   "outputs": [],
   "source": [
    "X = data[['Study_Hours_per_Week', 'Attendance (%)']]\n",
    "y = data['Grade']"
   ]
  },
  {
   "cell_type": "markdown",
   "id": "498801b8",
   "metadata": {},
   "source": [
    "For any remaining problematic data we impute the mean for any NaN values and transform the column to their new contents."
   ]
  },
  {
   "cell_type": "code",
   "execution_count": 4,
   "id": "808b602a",
   "metadata": {},
   "outputs": [],
   "source": [
    "imputer = SimpleImputer(strategy='mean')\n",
    "X = imputer.fit_transform(X) "
   ]
  },
  {
   "cell_type": "markdown",
   "id": "4f8663fe",
   "metadata": {},
   "source": [
    "Now that we have set the features and targets we have to split the data into corresponding train and test sets for X & Y. Random state makes sure that the data split is consistent across all sets."
   ]
  },
  {
   "cell_type": "code",
   "execution_count": 5,
   "id": "b3059c4d",
   "metadata": {},
   "outputs": [],
   "source": [
    "X_train, X_test, y_train, y_test = train_test_split(X, y, test_size=0.2, random_state=94)"
   ]
  },
  {
   "cell_type": "markdown",
   "id": "b24ffc86",
   "metadata": {},
   "source": [
    "We are now going to use scaler to standardize the data to have a mean of 0 and a standard deviation of 1. We do this to ensure consistency between the training and test sets."
   ]
  },
  {
   "cell_type": "code",
   "execution_count": 6,
   "id": "98c98970",
   "metadata": {},
   "outputs": [],
   "source": [
    "scaler = StandardScaler()\n",
    "X_train = scaler.fit_transform(X_train)\n",
    "X_test = scaler.transform(X_test)"
   ]
  },
  {
   "cell_type": "markdown",
   "id": "b7361b69",
   "metadata": {},
   "source": [
    "We need to start the logistic regression and set the most amount of iterations. Once we have initiated that regression we have to set what data to use for the predictions."
   ]
  },
  {
   "cell_type": "code",
   "execution_count": 7,
   "id": "d2b8bd5f",
   "metadata": {},
   "outputs": [
    {
     "name": "stdout",
     "output_type": "stream",
     "text": [
      "Model training completed\n"
     ]
    }
   ],
   "source": [
    "model = LogisticRegression(max_iter=5000)\n",
    "model.fit(X_train, y_train)\n",
    "print('Model training completed')"
   ]
  },
  {
   "cell_type": "markdown",
   "id": "beceeaea",
   "metadata": {},
   "source": [
    "We have to set where we want the predctions to go, we use this code to that extent."
   ]
  },
  {
   "cell_type": "code",
   "execution_count": 8,
   "id": "6b0a916b",
   "metadata": {},
   "outputs": [],
   "source": [
    "y_pred = model.predict(X_test)"
   ]
  },
  {
   "cell_type": "markdown",
   "id": "d8ee143c",
   "metadata": {},
   "source": [
    "Now that we have set the model to make predictions we can use the code to measure its performance for; Accuracy, Precision, Recall, and F-1 Score."
   ]
  },
  {
   "cell_type": "code",
   "execution_count": 9,
   "id": "9862edac",
   "metadata": {},
   "outputs": [
    {
     "name": "stdout",
     "output_type": "stream",
     "text": [
      "Accuracy: 0.39\n",
      "              precision    recall  f1-score   support\n",
      "\n",
      "         0.0       0.21      0.09      0.12       180\n",
      "         1.0       0.34      0.62      0.44       185\n",
      "         2.0       0.11      0.01      0.01       149\n",
      "         3.0       0.00      0.00      0.00       185\n",
      "         4.0       0.45      0.86      0.59       301\n",
      "\n",
      "    accuracy                           0.39      1000\n",
      "   macro avg       0.22      0.31      0.23      1000\n",
      "weighted avg       0.25      0.39      0.28      1000\n",
      "\n"
     ]
    }
   ],
   "source": [
    "accuracy = accuracy_score(y_test, y_pred)\n",
    "print(f\"Accuracy: {accuracy}\")\n",
    "print(classification_report(y_test, y_pred, zero_division=0))\n",
    "\n"
   ]
  }
 ],
 "metadata": {
  "kernelspec": {
   "display_name": "Python 3",
   "language": "python",
   "name": "python3"
  },
  "language_info": {
   "codemirror_mode": {
    "name": "ipython",
    "version": 3
   },
   "file_extension": ".py",
   "mimetype": "text/x-python",
   "name": "python",
   "nbconvert_exporter": "python",
   "pygments_lexer": "ipython3",
   "version": "3.12.1"
  }
 },
 "nbformat": 4,
 "nbformat_minor": 5
}
